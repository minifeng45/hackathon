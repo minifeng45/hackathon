{
 "cells": [
  {
   "cell_type": "code",
   "execution_count": 1,
   "id": "988a490b-e7ba-4a7c-8b5e-0e92848e8104",
   "metadata": {},
   "outputs": [],
   "source": [
    "# To work with local eumap code\n",
    "# import sys\n",
    "# sys.path.append('../../')\n",
    "\n",
    "import os\n",
    "os.environ['USE_PYGEOS'] = '0'\n",
    "\n",
    "from pathlib import Path\n",
    "import pandas as pd\n",
    "import geopandas as gpd\n",
    "from eumap.mapper import LandMapper\n",
    "\n",
    "import warnings\n",
    "warnings.filterwarnings('ignore')"
   ]
  },
  {
   "cell_type": "code",
   "execution_count": 2,
   "id": "6421ce9b-0b83-43d5-a223-ebc3676ab6e0",
   "metadata": {},
   "outputs": [],
   "source": [
    "from sklearn.metrics import log_loss\n",
    "\n",
    "def log_loss_scorer(clf, X, y_true):\n",
    "    class_labels = clf.classes_\n",
    "    y_pred_proba = clf.predict_proba(X)\n",
    "    error = log_loss(y_true, y_pred_proba, labels=class_labels)\n",
    "    return error * -1"
   ]
  },
  {
   "cell_type": "code",
   "execution_count": 3,
   "id": "6845e9ac-ef40-48b7-b14d-b0b4d0fdf9fe",
   "metadata": {},
   "outputs": [],
   "source": [
    "from sklearn.model_selection import GridSearchCV\n",
    "from sklearn.ensemble import RandomForestClassifier\n",
    "\n",
    "estimator = RandomForestClassifier(n_estimators=100)\n",
    "\n",
    "hyperpar = GridSearchCV(\n",
    "    estimator = estimator,\n",
    "    scoring = log_loss_scorer,\n",
    "    param_grid = {\n",
    "     'min_samples_leaf': [1, 5],\n",
    "     'max_depth': [5, None],\n",
    "     'max_features': [0.5]\n",
    "    }\n",
    ")\n"
   ]
  },
  {
   "cell_type": "markdown",
   "id": "cf78173d-afb2-4dda-a3d3-d9ab31f6ac79",
   "metadata": {},
   "source": [
    "training data preprocessing"
   ]
  },
  {
   "cell_type": "code",
   "execution_count": 4,
   "id": "84a8991e-2700-4190-95c7-a4d48a133bf0",
   "metadata": {},
   "outputs": [],
   "source": [
    "tdata_path = Path('tick_reports_training.gpkg') if Path('tick_reports_training.gpkg').is_file() else Path('tick_reports_dummy.gpkg')"
   ]
  },
  {
   "cell_type": "code",
   "execution_count": 5,
   "id": "19f340db-3d5e-4903-88ce-f82ecff89436",
   "metadata": {},
   "outputs": [],
   "source": [
    "tick_dummy = gpd.read_file(tdata_path)"
   ]
  },
  {
   "cell_type": "code",
   "execution_count": 6,
   "id": "19d2c57c-052a-487f-bc7f-690f087cef06",
   "metadata": {},
   "outputs": [
    {
     "data": {
      "text/html": [
       "<div>\n",
       "<style scoped>\n",
       "    .dataframe tbody tr th:only-of-type {\n",
       "        vertical-align: middle;\n",
       "    }\n",
       "\n",
       "    .dataframe tbody tr th {\n",
       "        vertical-align: top;\n",
       "    }\n",
       "\n",
       "    .dataframe thead th {\n",
       "        text-align: right;\n",
       "    }\n",
       "</style>\n",
       "<table border=\"1\" class=\"dataframe\">\n",
       "  <thead>\n",
       "    <tr style=\"text-align: right;\">\n",
       "      <th></th>\n",
       "      <th>id</th>\n",
       "      <th>acc</th>\n",
       "      <th>datetime</th>\n",
       "      <th>X</th>\n",
       "      <th>Y</th>\n",
       "      <th>geometry</th>\n",
       "    </tr>\n",
       "  </thead>\n",
       "  <tbody>\n",
       "    <tr>\n",
       "      <th>0</th>\n",
       "      <td>48</td>\n",
       "      <td>74</td>\n",
       "      <td>2015-03-11 21:09:27+00:00</td>\n",
       "      <td>2.703318e+06</td>\n",
       "      <td>1.233180e+06</td>\n",
       "      <td>POINT (2703317.828 1233180.426)</td>\n",
       "    </tr>\n",
       "    <tr>\n",
       "      <th>1</th>\n",
       "      <td>52</td>\n",
       "      <td>73</td>\n",
       "      <td>2015-03-11 20:39:01+00:00</td>\n",
       "      <td>2.700818e+06</td>\n",
       "      <td>1.233604e+06</td>\n",
       "      <td>POINT (2700817.848 1233603.591)</td>\n",
       "    </tr>\n",
       "    <tr>\n",
       "      <th>2</th>\n",
       "      <td>59</td>\n",
       "      <td>257</td>\n",
       "      <td>2015-03-13 07:54:01+00:00</td>\n",
       "      <td>2.559113e+06</td>\n",
       "      <td>1.153136e+06</td>\n",
       "      <td>POINT (2559113.393 1153136.235)</td>\n",
       "    </tr>\n",
       "    <tr>\n",
       "      <th>3</th>\n",
       "      <td>63</td>\n",
       "      <td>190</td>\n",
       "      <td>2015-03-14 16:38:27+00:00</td>\n",
       "      <td>2.604972e+06</td>\n",
       "      <td>1.200216e+06</td>\n",
       "      <td>POINT (2604972.189 1200216.263)</td>\n",
       "    </tr>\n",
       "    <tr>\n",
       "      <th>4</th>\n",
       "      <td>66</td>\n",
       "      <td>333</td>\n",
       "      <td>2015-03-15 18:59:35+00:00</td>\n",
       "      <td>2.681722e+06</td>\n",
       "      <td>1.247090e+06</td>\n",
       "      <td>POINT (2681722.042 1247090.450)</td>\n",
       "    </tr>\n",
       "  </tbody>\n",
       "</table>\n",
       "</div>"
      ],
      "text/plain": [
       "   id  acc                  datetime             X             Y  \\\n",
       "0  48   74 2015-03-11 21:09:27+00:00  2.703318e+06  1.233180e+06   \n",
       "1  52   73 2015-03-11 20:39:01+00:00  2.700818e+06  1.233604e+06   \n",
       "2  59  257 2015-03-13 07:54:01+00:00  2.559113e+06  1.153136e+06   \n",
       "3  63  190 2015-03-14 16:38:27+00:00  2.604972e+06  1.200216e+06   \n",
       "4  66  333 2015-03-15 18:59:35+00:00  2.681722e+06  1.247090e+06   \n",
       "\n",
       "                          geometry  \n",
       "0  POINT (2703317.828 1233180.426)  \n",
       "1  POINT (2700817.848 1233603.591)  \n",
       "2  POINT (2559113.393 1153136.235)  \n",
       "3  POINT (2604972.189 1200216.263)  \n",
       "4  POINT (2681722.042 1247090.450)  "
      ]
     },
     "execution_count": 6,
     "metadata": {},
     "output_type": "execute_result"
    }
   ],
   "source": [
    "tick_dummy.head()"
   ]
  },
  {
   "cell_type": "code",
   "execution_count": 7,
   "id": "6edf3c42-bf97-410f-b813-7685360c20e3",
   "metadata": {},
   "outputs": [],
   "source": [
    "tick_dummy['date'] = tick_dummy['datetime'].apply(lambda x: x.strftime('%Y-%m'))\n",
    "tick_dummy['month'] = tick_dummy['datetime'].apply(lambda x: x.strftime('%m'))\n",
    "tick_dummy['year'] = tick_dummy['datetime'].apply(lambda x: x.strftime('%Y'))\n",
    "tick_dummy = tick_dummy[['id','acc','geometry','date','year']]"
   ]
  },
  {
   "cell_type": "code",
   "execution_count": 8,
   "id": "6e400531-5321-48d7-852d-0b7c3203be16",
   "metadata": {},
   "outputs": [
    {
     "data": {
      "text/html": [
       "<div>\n",
       "<style scoped>\n",
       "    .dataframe tbody tr th:only-of-type {\n",
       "        vertical-align: middle;\n",
       "    }\n",
       "\n",
       "    .dataframe tbody tr th {\n",
       "        vertical-align: top;\n",
       "    }\n",
       "\n",
       "    .dataframe thead th {\n",
       "        text-align: right;\n",
       "    }\n",
       "</style>\n",
       "<table border=\"1\" class=\"dataframe\">\n",
       "  <thead>\n",
       "    <tr style=\"text-align: right;\">\n",
       "      <th></th>\n",
       "      <th>id</th>\n",
       "      <th>acc</th>\n",
       "      <th>geometry</th>\n",
       "      <th>date</th>\n",
       "      <th>year</th>\n",
       "    </tr>\n",
       "  </thead>\n",
       "  <tbody>\n",
       "    <tr>\n",
       "      <th>0</th>\n",
       "      <td>48</td>\n",
       "      <td>74</td>\n",
       "      <td>POINT (2703317.828 1233180.426)</td>\n",
       "      <td>2015-03</td>\n",
       "      <td>2015</td>\n",
       "    </tr>\n",
       "    <tr>\n",
       "      <th>1</th>\n",
       "      <td>52</td>\n",
       "      <td>73</td>\n",
       "      <td>POINT (2700817.848 1233603.591)</td>\n",
       "      <td>2015-03</td>\n",
       "      <td>2015</td>\n",
       "    </tr>\n",
       "    <tr>\n",
       "      <th>2</th>\n",
       "      <td>59</td>\n",
       "      <td>257</td>\n",
       "      <td>POINT (2559113.393 1153136.235)</td>\n",
       "      <td>2015-03</td>\n",
       "      <td>2015</td>\n",
       "    </tr>\n",
       "    <tr>\n",
       "      <th>3</th>\n",
       "      <td>63</td>\n",
       "      <td>190</td>\n",
       "      <td>POINT (2604972.189 1200216.263)</td>\n",
       "      <td>2015-03</td>\n",
       "      <td>2015</td>\n",
       "    </tr>\n",
       "    <tr>\n",
       "      <th>4</th>\n",
       "      <td>66</td>\n",
       "      <td>333</td>\n",
       "      <td>POINT (2681722.042 1247090.450)</td>\n",
       "      <td>2015-03</td>\n",
       "      <td>2015</td>\n",
       "    </tr>\n",
       "    <tr>\n",
       "      <th>...</th>\n",
       "      <td>...</td>\n",
       "      <td>...</td>\n",
       "      <td>...</td>\n",
       "      <td>...</td>\n",
       "      <td>...</td>\n",
       "    </tr>\n",
       "    <tr>\n",
       "      <th>28441</th>\n",
       "      <td>49910</td>\n",
       "      <td>272</td>\n",
       "      <td>POINT (2710389.567 1092322.160)</td>\n",
       "      <td>2020-06</td>\n",
       "      <td>2020</td>\n",
       "    </tr>\n",
       "    <tr>\n",
       "      <th>28442</th>\n",
       "      <td>49949</td>\n",
       "      <td>269</td>\n",
       "      <td>POINT (2693109.931 1254805.024)</td>\n",
       "      <td>2020-07</td>\n",
       "      <td>2020</td>\n",
       "    </tr>\n",
       "    <tr>\n",
       "      <th>28443</th>\n",
       "      <td>56372</td>\n",
       "      <td>969</td>\n",
       "      <td>POINT (2650954.421 1268689.730)</td>\n",
       "      <td>2018-09</td>\n",
       "      <td>2018</td>\n",
       "    </tr>\n",
       "    <tr>\n",
       "      <th>28444</th>\n",
       "      <td>58623</td>\n",
       "      <td>301</td>\n",
       "      <td>POINT (2627787.691 1236753.273)</td>\n",
       "      <td>2016-08</td>\n",
       "      <td>2016</td>\n",
       "    </tr>\n",
       "    <tr>\n",
       "      <th>28445</th>\n",
       "      <td>64904</td>\n",
       "      <td>97</td>\n",
       "      <td>POINT (2611003.896 1193560.931)</td>\n",
       "      <td>2019-04</td>\n",
       "      <td>2019</td>\n",
       "    </tr>\n",
       "  </tbody>\n",
       "</table>\n",
       "<p>28446 rows × 5 columns</p>\n",
       "</div>"
      ],
      "text/plain": [
       "          id  acc                         geometry     date  year\n",
       "0         48   74  POINT (2703317.828 1233180.426)  2015-03  2015\n",
       "1         52   73  POINT (2700817.848 1233603.591)  2015-03  2015\n",
       "2         59  257  POINT (2559113.393 1153136.235)  2015-03  2015\n",
       "3         63  190  POINT (2604972.189 1200216.263)  2015-03  2015\n",
       "4         66  333  POINT (2681722.042 1247090.450)  2015-03  2015\n",
       "...      ...  ...                              ...      ...   ...\n",
       "28441  49910  272  POINT (2710389.567 1092322.160)  2020-06  2020\n",
       "28442  49949  269  POINT (2693109.931 1254805.024)  2020-07  2020\n",
       "28443  56372  969  POINT (2650954.421 1268689.730)  2018-09  2018\n",
       "28444  58623  301  POINT (2627787.691 1236753.273)  2016-08  2016\n",
       "28445  64904   97  POINT (2611003.896 1193560.931)  2019-04  2019\n",
       "\n",
       "[28446 rows x 5 columns]"
      ]
     },
     "execution_count": 8,
     "metadata": {},
     "output_type": "execute_result"
    }
   ],
   "source": [
    "tick_dummy "
   ]
  },
  {
   "cell_type": "code",
   "execution_count": 9,
   "id": "9f692a49-05b5-4532-884a-3bcc762f4612",
   "metadata": {},
   "outputs": [],
   "source": [
    "static_fn_layers = []\n",
    "#for i in os.scandir('/home/opengeohub/faen/Desktop/OpenGeoHub2023_Hackathon_Tickbites_dummy/prepared_2/'):\n",
    "#    for j in os.scandir(i.path):\n",
    "#        if j.name.endswith('.tif'):\n",
    "#            static_fn_layers.append(Path(j.path))"
   ]
  },
  {
   "cell_type": "code",
   "execution_count": 11,
   "id": "ef9182a8-f774-4906-a0b4-88a196751b8c",
   "metadata": {},
   "outputs": [
    {
     "ename": "FileNotFoundError",
     "evalue": "[Errno 2] No such file or directory: 'external_input'",
     "output_type": "error",
     "traceback": [
      "\u001b[0;31m---------------------------------------------------------------------------\u001b[0m",
      "\u001b[0;31mFileNotFoundError\u001b[0m                         Traceback (most recent call last)",
      "Cell \u001b[0;32mIn[11], line 1\u001b[0m\n\u001b[0;32m----> 1\u001b[0m \u001b[38;5;28;01mfor\u001b[39;00m i \u001b[38;5;129;01min\u001b[39;00m \u001b[43mos\u001b[49m\u001b[38;5;241;43m.\u001b[39;49m\u001b[43mscandir\u001b[49m\u001b[43m(\u001b[49m\u001b[38;5;124;43m'\u001b[39;49m\u001b[38;5;124;43mexternal_input\u001b[39;49m\u001b[38;5;124;43m'\u001b[39;49m\u001b[43m)\u001b[49m:\n\u001b[1;32m      2\u001b[0m     \u001b[38;5;28;01mif\u001b[39;00m i\u001b[38;5;241m.\u001b[39mname \u001b[38;5;241m==\u001b[39m \u001b[38;5;124m'\u001b[39m\u001b[38;5;124mstatic\u001b[39m\u001b[38;5;124m'\u001b[39m:\n\u001b[1;32m      3\u001b[0m         \u001b[38;5;28;01mfor\u001b[39;00m j \u001b[38;5;129;01min\u001b[39;00m os\u001b[38;5;241m.\u001b[39mscandir(i\u001b[38;5;241m.\u001b[39mpath):\n",
      "\u001b[0;31mFileNotFoundError\u001b[0m: [Errno 2] No such file or directory: 'external_input'"
     ]
    }
   ],
   "source": [
    "for i in os.scandir('external_input'):\n",
    "    if i.name == 'static':\n",
    "        for j in os.scandir(i.path):\n",
    "            static_fn_layers.append(Path(j.path))"
   ]
  },
  {
   "cell_type": "code",
   "execution_count": null,
   "id": "a55875d3-949d-4e18-9c95-c89efd6955e1",
   "metadata": {},
   "outputs": [],
   "source": [
    "from eumap.mapper import SpaceOverlay\n",
    "\n",
    "spc_overlay = SpaceOverlay(os.path.join(root_path,'training_points.gpkg'), fn_layers=static_fn_layers)\n",
    "\n",
    "result = spc_overlay.run()\n",
    "\n",
    "\n",
    "print(result.shape)"
   ]
  },
  {
   "cell_type": "code",
   "execution_count": null,
   "id": "5ff778bc-e170-41c3-b07b-3efa5323eae4",
   "metadata": {},
   "outputs": [],
   "source": [
    "result.head()"
   ]
  },
  {
   "cell_type": "code",
   "execution_count": null,
   "id": "ecc40108-e1cb-406b-bfd1-e930a38d1e73",
   "metadata": {
    "scrolled": true,
    "tags": []
   },
   "outputs": [],
   "source": [
    "all_year = pd.DataFrame()\n",
    "for year in ['2015','2016','2017','2018','2019','2020']:\n",
    "    fn_layers = []\n",
    "    for i in os.scandir(os.path.join(root_path,'external_input'):\n",
    "        if i.name == year:\n",
    "            for j in os.scandir(i.path):\n",
    "                fn_layers.append(Path(j.path))\n",
    "    #for i in os.scandir('/home/opengeohub/faen/Desktop/OpenGeoHub2023_Hackathon_Tickbites_dummy/prepared_2/Weather/'):\n",
    "    #    for j in os.scandir(i.path):\n",
    "    #        if j.name.split('_')[1].split('-')[0] == year and j.name.endswith('tif'):\n",
    "    #            fn_layers.append(Path(j.path))\n",
    "    spc_overlay = SpaceOverlay(os.path.join(root_path,'training_points.gpkg', fn_layers=fn_layers)\n",
    "\n",
    "    result_tmp = spc_overlay.run()\n",
    "    result_tmp = result_tmp[result_tmp.year==year]\n",
    "    result_tmp.columns = result_tmp.columns.str.replace(year, '')\n",
    "    all_year = pd.concat([all_year,result_tmp])"
   ]
  },
  {
   "cell_type": "code",
   "execution_count": null,
   "id": "40dfe720-8a62-43e2-9cd8-2330bb44c68a",
   "metadata": {},
   "outputs": [],
   "source": [
    "df = result.join(all_year, lsuffix='', rsuffix='_other')"
   ]
  },
  {
   "cell_type": "code",
   "execution_count": null,
   "id": "439f1554-3c64-48c1-a93d-dc280c65b027",
   "metadata": {},
   "outputs": [],
   "source": [
    "columns = []\n",
    "for i in df.columns:\n",
    "    if i == 'Population_2015-2021':\n",
    "        continue\n",
    "    if not i.endswith('other'):\n",
    "        columns.append(i)"
   ]
  },
  {
   "cell_type": "code",
   "execution_count": null,
   "id": "5ef22d15-e96a-4dd4-a770-e193f3ad2672",
   "metadata": {
    "scrolled": true,
    "tags": []
   },
   "outputs": [],
   "source": [
    "feat_col_prfxs = list(columns[6:10])\n",
    "target_col = 'acc'\n",
    "\n",
    "min_samples_per_class = 0.05\n",
    "cv = 5\n",
    "\n",
    "landmapper_prob = LandMapper(points=df,\n",
    "                        feat_col_prfxs = feat_col_prfxs,\n",
    "                        target_col = target_col,\n",
    "                        estimator = estimator,\n",
    "                        hyperpar_selection = hyperpar,\n",
    "                        cv = cv,\n",
    "                        min_samples_per_class=min_samples_per_class,\n",
    "                        pred_method='predict_proba',\n",
    "                        verbose = True)"
   ]
  },
  {
   "cell_type": "code",
   "execution_count": null,
   "id": "673ae9b5-51ee-4398-8cfd-ee11868e9ce4",
   "metadata": {},
   "outputs": [],
   "source": [
    "landmapper_prob.target_le"
   ]
  },
  {
   "cell_type": "code",
   "execution_count": null,
   "id": "ef69fcbd-9e08-4d08-b992-417b9b2d8759",
   "metadata": {},
   "outputs": [],
   "source": [
    "landmapper_prob.train()"
   ]
  },
  {
   "cell_type": "code",
   "execution_count": null,
   "id": "7f9222bb-6738-4fc0-9aaf-0f7ec720e915",
   "metadata": {},
   "outputs": [],
   "source": [
    "print(f'Log loss: {landmapper_prob.eval_metrics[\"log_loss\"]:.3f}\\n\\n')\n",
    "print(landmapper_prob.eval_report)"
   ]
  },
  {
   "cell_type": "code",
   "execution_count": null,
   "id": "8dc531de-6aa9-42f7-a161-c85bccca5561",
   "metadata": {},
   "outputs": [],
   "source": [
    "fns_layers = static_fn_layers+fn_layers"
   ]
  },
  {
   "cell_type": "code",
   "execution_count": null,
   "id": "719cae69-4e3a-4af5-8eff-f2a05046a9a1",
   "metadata": {},
   "outputs": [],
   "source": [
    "\n",
    "fn_output = os.path.join(root_path, 'tick_acc.tif')\n",
    "\n",
    "output_fn_files = landmapper_prob.predict(fn_layers=fns_layers, fn_output=fn_output, allow_additional_layers=True)\n",
    "\n",
    "print('Output files:')\n",
    "for output_fn_file in output_fn_files:\n",
    "    print(f' - {Path(output_fn_file).name}')"
   ]
  },
  {
   "cell_type": "code",
   "execution_count": null,
   "id": "8308cdee-5fe3-4656-8630-ad2003a386b0",
   "metadata": {},
   "outputs": [],
   "source": []
  }
 ],
 "metadata": {
  "kernelspec": {
   "display_name": "Python 3 (ipykernel)",
   "language": "python",
   "name": "python3"
  },
  "language_info": {
   "codemirror_mode": {
    "name": "ipython",
    "version": 3
   },
   "file_extension": ".py",
   "mimetype": "text/x-python",
   "name": "python",
   "nbconvert_exporter": "python",
   "pygments_lexer": "ipython3",
   "version": "3.11.5"
  }
 },
 "nbformat": 4,
 "nbformat_minor": 5
}
